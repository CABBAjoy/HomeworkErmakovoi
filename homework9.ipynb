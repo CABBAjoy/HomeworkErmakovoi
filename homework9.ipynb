{
 "cells": [
  {
   "cell_type": "markdown",
   "id": "27c9c91f",
   "metadata": {},
   "source": [
    "# Домашнее задание: Регулярные выражения\n",
    "\n",
    "В этом ноутбуке реализованы два задания, направленные на закрепление навыков работы с регулярными выражениями.\n",
    "\n",
    "1. Проверка валидности транспортного номера.\n",
    "2. Удаление последовательных повторов слов в строке."
   ]
  },
  {
   "cell_type": "markdown",
   "id": "d369c8f6",
   "metadata": {},
   "source": [
    "## Задание 1: Проверка транспортного номера\n",
    "\n",
    "**Условие:**\n",
    "Напишите функцию, которая принимает строку и проверяет, является ли она валидным транспортным номером (1 буква, 3 цифры, 2 буквы, 2–3 цифры).\n",
    "Если номер валиден, возвращается: `Номер <основная часть> валиден. Регион: <регион>`.\n",
    "Если номер не валиден, выводится: `Номер не валиден.`"
   ]
  },
  {
   "cell_type": "code",
   "execution_count": 3,
   "id": "a12e50cd",
   "metadata": {},
   "outputs": [],
   "source": [
    "import re\n",
    "\n",
    "def check_car_id(car_id):\n",
    "    \"\"\"\n",
    "    Проверяет валидность транспортного номера РФ по шаблону.\n",
    "    Формат: 1 буква, 3 цифры, 2 буквы, 2 или 3 цифры (регион).\n",
    "    \"\"\"\n",
    "    pattern = r'^([АВЕКМНОРСТУХ])\\d{3}([АВЕКМНОРСТУХ]{2})(\\d{2,3})$'\n",
    "    match = re.match(pattern, car_id)\n",
    "    if match:\n",
    "        return f\"Номер {car_id[:-len(match.group(3))]} валиден. Регион: {match.group(3)}.\"\n",
    "    return \"Номер не валиден.\""
   ]
  },
  {
   "cell_type": "code",
   "execution_count": 5,
   "id": "8f7d09ec",
   "metadata": {},
   "outputs": [
    {
     "name": "stdout",
     "output_type": "stream",
     "text": [
      "Номер А222ВС валиден. Регион: 96.\n",
      "Номер не валиден.\n",
      "Номер М123КТ валиден. Регион: 199.\n"
     ]
    }
   ],
   "source": [
    "print(check_car_id('А222ВС96'))   # валиден\n",
    "print(check_car_id('АБ22ВВ193'))  # не валиден\n",
    "print(check_car_id('М123КТ199'))  # валиден"
   ]
  },
  {
   "cell_type": "markdown",
   "id": "f3769c86",
   "metadata": {},
   "source": [
    "## Задание 2: Удаление повторов слов\n",
    "\n",
    "**Условие:**\n",
    "Напишите функцию, которая с помощью регулярных выражений удаляет **последовательные повторы слов** в строке.\n",
    "Слова считаются повторяющимися, если идут подряд без других слов между ними."
   ]
  },
  {
   "cell_type": "code",
   "execution_count": 9,
   "id": "5df99cd2",
   "metadata": {},
   "outputs": [],
   "source": [
    "def remove_duplicates(text):\n",
    "    \"\"\"\n",
    "    Удаляет последовательные повторы слов в строке.\n",
    "    \"\"\"\n",
    "    pattern = r'\\b(\\w+)(\\s+\\1)+\\b'\n",
    "    return re.sub(pattern, r'\\1', text, flags=re.IGNORECASE)"
   ]
  },
  {
   "cell_type": "code",
   "execution_count": 11,
   "id": "01152d94",
   "metadata": {},
   "outputs": [
    {
     "name": "stdout",
     "output_type": "stream",
     "text": [
      "Напишите функцию, которая будет удалять все последовательные повторы слов из заданной строки при помощи регулярных выражений\n"
     ]
    }
   ],
   "source": [
    "some_string = (\n",
    "    'Напишите функцию функцию, которая будет будет будет будет удалять все все все все '\n",
    "    'последовательные повторы слов из из из из заданной строки строки при помощи регулярных выражений'\n",
    ")\n",
    "print(remove_duplicates(some_string))"
   ]
  }
 ],
 "metadata": {
  "kernelspec": {
   "display_name": "Python [conda env:base] *",
   "language": "python",
   "name": "conda-base-py"
  },
  "language_info": {
   "codemirror_mode": {
    "name": "ipython",
    "version": 3
   },
   "file_extension": ".py",
   "mimetype": "text/x-python",
   "name": "python",
   "nbconvert_exporter": "python",
   "pygments_lexer": "ipython3",
   "version": "3.12.7"
  }
 },
 "nbformat": 4,
 "nbformat_minor": 5
}
