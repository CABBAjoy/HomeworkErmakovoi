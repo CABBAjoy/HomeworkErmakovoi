{
 "cells": [
  {
   "cell_type": "markdown",
   "metadata": {},
   "source": [
    "# Комбинаторика — задачи по материалам Шихановой\n",
    "Решение трёх задач с использованием базовых комбинаторных моделей: размещения, сочетания, правило произведения."
   ]
  },
  {
   "cell_type": "markdown",
   "metadata": {},
   "source": [
    "## Задача 1\n",
    "**Условие:** В поезде 9 вагонов. Сколькими способами можно посадить в него 4 человека так, чтобы все они оказались в различных вагонах?\n",
    "\n",
    "**Решение:**\n",
    "Выбираем 4 разных вагона из 9 и рассаживаем туда 4 человек — порядок важен, без повторений.\n",
    "Это размещения без повторений: $A^4_9 = \\frac{9!}{(9 - 4)!}$"
   ]
  },
  {
   "cell_type": "code",
   "execution_count": 5,
   "metadata": {},
   "outputs": [
    {
     "data": {
      "text/plain": [
       "3024"
      ]
     },
     "execution_count": 5,
     "metadata": {},
     "output_type": "execute_result"
    }
   ],
   "source": [
    "import math\n",
    "A_9_4 = math.perm(9, 4)  # Размещения без повторений\n",
    "A_9_4"
   ]
  },
  {
   "cell_type": "markdown",
   "metadata": {},
   "source": [
    "## Задача 2\n",
    "**Условие:** Автомобильный номер состоит из 3 цифр (от 0 до 9, но не все нули) и 3 букв из набора из 12 русских букв.\n",
    "\n",
    "**Решение:**\n",
    "- Всего цифровых комбинаций: $10^3 = 1000$, но исключаем 000.\n",
    "- Всего буквенных комбинаций: $12^3 = 1728$\n",
    "- Общее число номеров: $999 \\times 1728$"
   ]
  },
  {
   "cell_type": "code",
   "execution_count": 7,
   "metadata": {},
   "outputs": [
    {
     "data": {
      "text/plain": [
       "1726272"
      ]
     },
     "execution_count": 7,
     "metadata": {},
     "output_type": "execute_result"
    }
   ],
   "source": [
    "digit_variants = 10**3 - 1  # исключаем 000\n",
    "letter_variants = 12**3\n",
    "total_plates = digit_variants * letter_variants\n",
    "total_plates"
   ]
  },
  {
   "cell_type": "markdown",
   "metadata": {},
   "source": [
    "## Задача 3\n",
    "**Условие:** 6 человек заказывают напиток из 5 видов. Сколько различных комбинаций заказов?\n",
    "\n",
    "**Решение:**\n",
    "Каждый выбирает из 5 напитков независимо → $5^6$ вариантов (размещения с повторениями)."
   ]
  },
  {
   "cell_type": "code",
   "execution_count": 11,
   "metadata": {},
   "outputs": [
    {
     "data": {
      "text/plain": [
       "15625"
      ]
     },
     "execution_count": 11,
     "metadata": {},
     "output_type": "execute_result"
    }
   ],
   "source": [
    "drink_variants = 5**6\n",
    "drink_variants"
   ]
  },
  {
   "cell_type": "code",
   "execution_count": null,
   "metadata": {},
   "outputs": [],
   "source": []
  }
 ],
 "metadata": {
  "kernelspec": {
   "display_name": "Python [conda env:base] *",
   "language": "python",
   "name": "conda-base-py"
  },
  "language_info": {
   "codemirror_mode": {
    "name": "ipython",
    "version": 3
   },
   "file_extension": ".py",
   "mimetype": "text/x-python",
   "name": "python",
   "nbconvert_exporter": "python",
   "pygments_lexer": "ipython3",
   "version": "3.12.7"
  }
 },
 "nbformat": 4,
 "nbformat_minor": 4
}
