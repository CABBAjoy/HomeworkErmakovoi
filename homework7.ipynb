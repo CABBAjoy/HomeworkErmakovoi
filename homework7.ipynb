{
 "cells": [
  {
   "cell_type": "markdown",
   "id": "42587143-9325-402c-b194-36814a1f9065",
   "metadata": {},
   "source": [
    "### Задание 1\n",
    "Печатные газеты использовали свой формат дат для каждого выпуска. Для каждой газеты из списка напишите формат указанной даты для перевода в объект datetime:\n",
    "- The Moscow Times — Wednesday, October 2, 2002\n",
    "- The Guardian — Friday, 11.10.13\n",
    "- Daily News — Thursday, 18 August 1977"
   ]
  },
  {
   "cell_type": "code",
   "execution_count": 7,
   "id": "a09f3eaf-c97f-4971-9ed9-cd22890630b5",
   "metadata": {},
   "outputs": [],
   "source": [
    "from datetime import datetime  # Импортируем класс datetime из модуля datetime\n",
    "\n",
    "# Строки с датами в разных форматах от разных газет\n",
    "moscow_times = 'Wednesday, October 2, 2002'\n",
    "guardian = 'Friday, 11.10.13'\n",
    "daily_news = 'Thursday, 18 August 1977'"
   ]
  },
  {
   "cell_type": "code",
   "execution_count": 9,
   "id": "97cfa5c2-6b73-476e-b7b3-3929e6d53689",
   "metadata": {},
   "outputs": [],
   "source": [
    "# Преобразуем строку в объект datetime с указанием точного формата:\n",
    "# %A — полное название дня недели, %B — полное название месяца,\n",
    "# %d — день, %Y — год с 4 цифрами\n",
    "dt_moscow_times = datetime.strptime(moscow_times, '%A, %B %d, %Y')"
   ]
  },
  {
   "cell_type": "code",
   "execution_count": 11,
   "id": "8a627be7-182d-428d-af73-de86a1bc3a72",
   "metadata": {},
   "outputs": [],
   "source": [
    "# %A — день недели, %d — день (двузначный), %m — месяц (двузначный), %y — год (2 цифры)\n",
    "dt_guardian = datetime.strptime(guardian, '%A, %d.%m.%y')\n",
    "\n",
    "# %A — день недели, %d — день, %B — месяц словами, %Y — год (4 цифры)\n",
    "dt_daily_news = datetime.strptime(daily_news, '%A, %d %B %Y')"
   ]
  },
  {
   "cell_type": "code",
   "execution_count": 13,
   "id": "cdc07457-c543-40cd-bf3f-c18435c5693c",
   "metadata": {},
   "outputs": [
    {
     "name": "stdout",
     "output_type": "stream",
     "text": [
      "2002-10-02 00:00:00\n",
      "2013-10-11 00:00:00\n",
      "1977-08-18 00:00:00\n"
     ]
    }
   ],
   "source": [
    "# Печатаем объекты datetime. Они будут в формате: YYYY-MM-DD 00:00:00\n",
    "print(dt_moscow_times)\n",
    "print(dt_guardian)\n",
    "print(dt_daily_news)"
   ]
  },
  {
   "cell_type": "markdown",
   "id": "b23639e6-ca0e-4993-ac05-d86d7a1dc612",
   "metadata": {},
   "source": [
    "### Задание 2 \n",
    "Напишите функцию date_range, которая возвращает список дат за период от start_date до end_date. Даты должны вводиться в формате yyyy-mm-dd. В случае неверного формата или при start_date > end_date должен возвращаться пустой список."
   ]
  },
  {
   "cell_type": "code",
   "execution_count": 27,
   "id": "df70514b-054e-49cb-9094-0cadb777f249",
   "metadata": {},
   "outputs": [
    {
     "name": "stdout",
     "output_type": "stream",
     "text": [
      "['2022-01-01', '2022-01-02', '2022-01-03']\n",
      "[]\n",
      "[]\n"
     ]
    }
   ],
   "source": [
    "from datetime import datetime, timedelta  # Импортируем необходимые классы\n",
    "\n",
    "def date_range(start_date, end_date):\n",
    "    try:\n",
    "        # Пытаемся преобразовать введённые строки в объекты datetime\n",
    "        # Формат — год-месяц-день (например, 2022-01-01)\n",
    "        start = datetime.strptime(start_date, '%Y-%m-%d')\n",
    "        end = datetime.strptime(end_date, '%Y-%m-%d')\n",
    "    except ValueError:\n",
    "        # Если возникла ошибка (например, неверный формат или несуществующая дата), возвращаем пустой список\n",
    "        return []\n",
    "\n",
    "    # Проверка: если начальная дата больше конечной — возвращаем пустой список\n",
    "    if start > end:\n",
    "        return []\n",
    "\n",
    "    result = []              # Сюда будем добавлять строки с датами\n",
    "    current = start          # Начинаем с начальной даты\n",
    "    while current <= end:    # Пока не дошли до конечной даты\n",
    "        # Преобразуем текущую дату в строку и добавляем в список\n",
    "        result.append(current.strftime('%Y-%m-%d'))\n",
    "        current += timedelta(days=1)  # Увеличиваем дату на 1 день\n",
    "\n",
    "    return result  # Возвращаем итоговый список дат\n",
    "\n",
    "# Примеры вызова функции:\n",
    "print(date_range('2022-01-01', '2022-01-03'))  # ['2022-01-01', '2022-01-02', '2022-01-03']\n",
    "print(date_range('2022-01-03', '2022-01-01'))  # [] — начало позже конца\n",
    "print(date_range('2022-02-30', '2022-02-31'))  # [] — несуществующие даты\n"
   ]
  }
 ],
 "metadata": {
  "kernelspec": {
   "display_name": "Python [conda env:base] *",
   "language": "python",
   "name": "conda-base-py"
  },
  "language_info": {
   "codemirror_mode": {
    "name": "ipython",
    "version": 3
   },
   "file_extension": ".py",
   "mimetype": "text/x-python",
   "name": "python",
   "nbconvert_exporter": "python",
   "pygments_lexer": "ipython3",
   "version": "3.12.7"
  }
 },
 "nbformat": 4,
 "nbformat_minor": 5
}
