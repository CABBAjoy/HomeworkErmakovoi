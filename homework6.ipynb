{
 "cells": [
  {
   "cell_type": "markdown",
   "id": "af8fd51c-f68a-478a-af5f-e2c058c75bf1",
   "metadata": {},
   "source": [
    "## Задание 1\n",
    "Переведите содержимое файла purchase_log.txt в словарь purchases вида:{‘1840e0b9d4’: ‘Продукты’, …}\n",
    "\n",
    "#### Пример работы программы при выводе первых двух элементов словаря purchases:\n",
    "- 1840e0b9d4 ‘Продукты‘\n",
    "- 4e4f90fcfb ‘Электроника‘"
   ]
  },
  {
   "cell_type": "code",
   "execution_count": 15,
   "id": "d2ffdb47-eab4-4276-a567-3162038a4841",
   "metadata": {},
   "outputs": [],
   "source": [
    "import json"
   ]
  },
  {
   "cell_type": "code",
   "execution_count": 23,
   "id": "83acd4f7-4b17-451b-aa99-00f9968d81a7",
   "metadata": {},
   "outputs": [],
   "source": [
    "purchases = {}"
   ]
  },
  {
   "cell_type": "code",
   "execution_count": 25,
   "id": "e3f1d230-624c-4e49-b36d-e06e33b46f4b",
   "metadata": {},
   "outputs": [
    {
     "name": "stdout",
     "output_type": "stream",
     "text": [
      "1840e0b9d4 Продукты\n",
      "4e4f90fcfb Электроника\n"
     ]
    }
   ],
   "source": [
    "with open('purchase_log.txt', encoding='utf-8') as f:  # Указываем кодировку UTF-8\n",
    "    for i, line in enumerate(f):\n",
    "        line = line.strip()\n",
    "        try:\n",
    "            data = json.loads(line)\n",
    "            if data['user_id'] != 'user_id':  # Пропускаем первую строку с заголовками\n",
    "                purchases[data['user_id']] = data['category']\n",
    "        except json.JSONDecodeError:\n",
    "            continue  # Пропускаем строки, которые не удаётся разобрать\n",
    "\n",
    "        if i > 5:\n",
    "            break\n",
    "\n",
    "# Проверим первые два элемента словаря\n",
    "for user_id, category in list(purchases.items())[:2]:\n",
    "    print(user_id, category)"
   ]
  },
  {
   "cell_type": "markdown",
   "id": "f9648331-4a06-47b8-afab-a07f7b460600",
   "metadata": {},
   "source": [
    "## Задание 2\n",
    "Для каждого user_id в файле visit_log.csv определите третий столбец с категорией покупки. Если покупка была, сам файл visit_log.csv изменять не надо.\n",
    "Запишите в файл funnel.csv визиты из файла visit_log.csv, в которых были покупки с указанием категории."
   ]
  },
  {
   "cell_type": "code",
   "execution_count": 29,
   "id": "d80ddd33-997b-4d19-bc2e-ce3159335e1e",
   "metadata": {},
   "outputs": [],
   "source": [
    "import json\n",
    "import csv"
   ]
  },
  {
   "cell_type": "code",
   "execution_count": 31,
   "id": "72c03743-3ef9-479f-9375-f88f1b05d08b",
   "metadata": {},
   "outputs": [],
   "source": [
    "# Шаг 1: Считываем покупки в память\n",
    "purchases = {}\n",
    "with open('purchase_log.txt', encoding='utf-8') as f:\n",
    "    for line in f:\n",
    "        try:\n",
    "            data = json.loads(line.strip())\n",
    "            if data['user_id'] != 'user_id':\n",
    "                purchases[data['user_id']] = data['category']\n",
    "        except json.JSONDecodeError:\n",
    "            continue"
   ]
  },
  {
   "cell_type": "code",
   "execution_count": 33,
   "id": "1626cbef-8004-465b-a071-76b779df5101",
   "metadata": {},
   "outputs": [],
   "source": [
    "# Шаг 2: Построчно читаем visits и фильтруем\n",
    "with open('visit_log.csv', encoding='utf-8') as visits_file, \\\n",
    "     open('funnel.csv', 'w', newline='', encoding='utf-8') as funnel_file:\n",
    "\n",
    "    reader = csv.reader(visits_file)\n",
    "    writer = csv.writer(funnel_file)\n",
    "\n",
    "    writer.writerow(['user_id', 'source', 'category'])  # Заголовок\n",
    "\n",
    "    for row in reader:\n",
    "        if row[0] in purchases:\n",
    "            writer.writerow([row[0], row[1], purchases[row[0]]])"
   ]
  },
  {
   "cell_type": "code",
   "execution_count": 35,
   "id": "91c64484-36a3-4118-ae3e-d4e6506ed5d9",
   "metadata": {},
   "outputs": [
    {
     "name": "stdout",
     "output_type": "stream",
     "text": [
      "user_id,source,category\n",
      "1840e0b9d4,other,Продукты\n",
      "4e4f90fcfb,context,Электроника\n",
      "afea8d72fc,other,Электроника\n",
      "2824221f38,email,Продукты\n"
     ]
    }
   ],
   "source": [
    "# Проверка: вывести первые несколько строк файла funnel.csv\n",
    "with open('funnel.csv', encoding='utf-8') as f:\n",
    "    for i, line in enumerate(f):\n",
    "        print(line.strip())  # Убираем перевод строки\n",
    "        if i >= 4:  # Покажем первые 5 строк\n",
    "            break"
   ]
  },
  {
   "cell_type": "code",
   "execution_count": null,
   "id": "df214362-7bc8-41ce-b153-6a833d3b02b4",
   "metadata": {},
   "outputs": [],
   "source": []
  }
 ],
 "metadata": {
  "kernelspec": {
   "display_name": "Python [conda env:base] *",
   "language": "python",
   "name": "conda-base-py"
  },
  "language_info": {
   "codemirror_mode": {
    "name": "ipython",
    "version": 3
   },
   "file_extension": ".py",
   "mimetype": "text/x-python",
   "name": "python",
   "nbconvert_exporter": "python",
   "pygments_lexer": "ipython3",
   "version": "3.12.7"
  }
 },
 "nbformat": 4,
 "nbformat_minor": 5
}
