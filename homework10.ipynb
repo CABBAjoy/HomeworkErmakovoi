{
 "cells": [
  {
   "cell_type": "markdown",
   "id": "e8a2f587-1e7c-465b-9931-2420f7a17da3",
   "metadata": {},
   "source": [
    "# Домашнее задание: Pandas и анализ данных\n"
   ]
  },
  {
   "cell_type": "markdown",
   "id": "2e3872c0-f274-443c-a0c6-efd38efa4da3",
   "metadata": {},
   "source": [
    "## Структура датасетов\n",
    "\n",
    "**ratings.csv** — оценки фильмов:  \n",
    "- `userId`, `movieId`, `rating`, `timestamp`\n",
    "\n",
    "**movies.csv** — названия и жанры фильмов:  \n",
    "- `movieId`, `title`, `genres`\n",
    "\n",
    "**power.csv** — потребление энергии:  \n",
    "- `country`, `year`, `quantity`, `category`\n",
    "\n",
    "**transactions.csv** — продажи:  \n",
    "- `year`, `month`, `id`, `product`, `amount`, `price`, `total`, `cost`\n"
   ]
  },
  {
   "cell_type": "code",
   "execution_count": 5,
   "id": "b5e66747-ae43-4981-8c5c-6f3e8f4ace9f",
   "metadata": {},
   "outputs": [],
   "source": [
    "import pandas as pd"
   ]
  },
  {
   "cell_type": "code",
   "execution_count": 7,
   "id": "85377d60-1580-4cee-af97-47626d35b18e",
   "metadata": {},
   "outputs": [],
   "source": [
    "ratings = pd.read_csv('ratings.csv')\n",
    "movies = pd.read_csv('movies.csv')\n",
    "\n",
    "power = pd.read_csv('power.csv')\n",
    "#transactions = pd.read_csv('transactions.csv')"
   ]
  },
  {
   "cell_type": "markdown",
   "id": "c7fb9c38-210b-4f51-aaad-f191ef5ebbbc",
   "metadata": {},
   "source": [
    "## Задание 1: Фильм с наибольшим числом оценок 5.0\n",
    "\n",
    "Определим, какому фильму было выставлено больше всего оценок `5.0`.\n"
   ]
  },
  {
   "cell_type": "code",
   "execution_count": 10,
   "id": "9d668e55-c732-4595-af17-8e41de8d9700",
   "metadata": {},
   "outputs": [
    {
     "name": "stdout",
     "output_type": "stream",
     "text": [
      "Больше всего оценок 5.0 получил фильм: 'Shawshank Redemption, The (1994)' — 153 оценок\n"
     ]
    }
   ],
   "source": [
    "# Фильтруем только оценки 5.0\n",
    "best_rated = ratings[ratings['rating'] == 5.0]\n",
    "\n",
    "# Считаем количество таких оценок по каждому фильму\n",
    "rating_counts = best_rated['movieId'].value_counts()\n",
    "\n",
    "# Находим ID фильма с максимумом\n",
    "top_movie_id = rating_counts.idxmax()\n",
    "top_movie_count = rating_counts.max()\n",
    "\n",
    "# Получаем название фильма из таблицы movies\n",
    "top_movie_title = movies[movies['movieId'] == top_movie_id]['title'].values[0]\n",
    "\n",
    "print(f\"Больше всего оценок 5.0 получил фильм: '{top_movie_title}' — {top_movie_count} оценок\")\n"
   ]
  },
  {
   "cell_type": "markdown",
   "id": "0e70dddc-8677-4d8c-8453-e79318d0c3da",
   "metadata": {},
   "source": [
    "## Задание 2: Суммарное потребление Прибалтики\n",
    "\n",
    "Посчитаем суммарное потребление стран Латвия, Литва и Эстония  \n",
    "для категорий 4, 12 и 21 за период с 2005 по 2010 год.  \n",
    "Отрицательные значения не учитываются.\n"
   ]
  },
  {
   "cell_type": "code",
   "execution_count": 13,
   "id": "ad9ebc61-948c-4ca6-b90e-bec1e26a8e2a",
   "metadata": {},
   "outputs": [
    {
     "name": "stdout",
     "output_type": "stream",
     "text": [
      "Суммарное потребление (2005–2010): 240580.0\n"
     ]
    }
   ],
   "source": [
    "# Фильтрация по странам, годам, категориям и положительным значениям\n",
    "baltic_countries = ['Latvia', 'Lithuania', 'Estonia']\n",
    "categories = [4, 12, 21]\n",
    "\n",
    "filtered_power = power[\n",
    "    (power['country'].isin(baltic_countries)) &\n",
    "    (power['year'] >= 2005) & (power['year'] <= 2010) &\n",
    "    (power['category'].isin(categories)) &\n",
    "    (power['quantity'] > 0)\n",
    "]\n",
    "\n",
    "# Сумма по колонке quantity\n",
    "total_quantity = filtered_power['quantity'].sum()\n",
    "print(f\"Суммарное потребление (2005–2010): {total_quantity}\")\n"
   ]
  },
  {
   "cell_type": "code",
   "execution_count": null,
   "id": "7280f50d-2a1a-4bbe-87bb-21e4cce08e58",
   "metadata": {},
   "outputs": [],
   "source": []
  }
 ],
 "metadata": {
  "kernelspec": {
   "display_name": "Python [conda env:base] *",
   "language": "python",
   "name": "conda-base-py"
  },
  "language_info": {
   "codemirror_mode": {
    "name": "ipython",
    "version": 3
   },
   "file_extension": ".py",
   "mimetype": "text/x-python",
   "name": "python",
   "nbconvert_exporter": "python",
   "pygments_lexer": "ipython3",
   "version": "3.12.7"
  }
 },
 "nbformat": 4,
 "nbformat_minor": 5
}
