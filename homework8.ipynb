{
 "cells": [
  {
   "cell_type": "markdown",
   "id": "8c266ee2",
   "metadata": {},
   "source": [
    "# Работа с курсами валют через API ЦБ РФ\n",
    "\n",
    "Решения двух заданий:\n",
    "- Получение названия валюты с максимальным курсом\n",
    "- Класс `Rate` с параметром `diff`, возвращающим разницу в курсе"
   ]
  },
  {
   "cell_type": "markdown",
   "id": "75102305",
   "metadata": {},
   "source": [
    "## Задание 1. Название валюты с максимальным курсом\n",
    "\n",
    "Сделать запрос к API Центробанка РФ `https://www.cbr-xml-daily.ru/daily_json.js`,\n",
    "получить актуальные курсы валют и вывести название валюты (`Name`) с максимальным значением (`Value`)."
   ]
  },
  {
   "cell_type": "code",
   "execution_count": 7,
   "id": "3da4a5a6",
   "metadata": {},
   "outputs": [],
   "source": [
    "import requests\n",
    "\n",
    "class Currency:\n",
    "    \"\"\"\n",
    "    Класс для получения информации о курсах валют.\n",
    "    \"\"\"\n",
    "\n",
    "    def __init__(self):\n",
    "        \"\"\"\n",
    "        Загружает данные с сайта Центробанка РФ.\n",
    "        \"\"\"\n",
    "        self.data = requests.get('https://www.cbr-xml-daily.ru/daily_json.js').json()['Valute']\n",
    "\n",
    "    def max_currency(self):\n",
    "        \"\"\"\n",
    "        Возвращает название валюты с максимальным значением курса.\n",
    "        \"\"\"\n",
    "        max_valute = max(self.data.values(), key=lambda x: x['Value'])\n",
    "        return max_valute['Name']"
   ]
  },
  {
   "cell_type": "code",
   "execution_count": 9,
   "id": "0ed41e18",
   "metadata": {},
   "outputs": [
    {
     "name": "stdout",
     "output_type": "stream",
     "text": [
      "СДР (специальные права заимствования)\n"
     ]
    }
   ],
   "source": [
    "c = Currency()\n",
    "print(c.max_currency())  # Например: китайские юани"
   ]
  },
  {
   "cell_type": "code",
   "execution_count": null,
   "id": "a845620a-e714-4ca2-9810-39a82f5ae6e9",
   "metadata": {},
   "outputs": [],
   "source": []
  },
  {
   "cell_type": "markdown",
   "id": "de3ae6ec",
   "metadata": {},
   "source": [
    "## Задание 2. Класс `Rate` с параметром `diff`\n",
    "\n",
    "Модифицируем класс `Rate`, добавив параметр `diff`.\n",
    "Если он установлен в `True`, методы `usd()`, `eur()` и т.д. возвращают разницу между текущим и предыдущим курсом (`Value - Previous`).\n",
    "Если `diff=False`, возвращается текущий курс."
   ]
  },
  {
   "cell_type": "code",
   "execution_count": 5,
   "id": "f3502908",
   "metadata": {},
   "outputs": [],
   "source": [
    "class Rate:\n",
    "    \"\"\"\n",
    "    Класс для получения курса валют с возможностью вывода разницы курсов.\n",
    "    \"\"\"\n",
    "\n",
    "    def __init__(self, diff=False):\n",
    "        \"\"\"\n",
    "        Инициализация: загрузка данных и установка флага diff.\n",
    "        \"\"\"\n",
    "        self.diff = diff\n",
    "        self.data = requests.get('https://www.cbr-xml-daily.ru/daily_json.js').json()['Valute']\n",
    "\n",
    "    def get_currency(self, code, format_='value'):\n",
    "        \"\"\"\n",
    "        Возвращает информацию по валюте:\n",
    "        - если format_='value' и diff=True, возвращается разница\n",
    "        - если format_='value' и diff=False, возвращается курс\n",
    "        - если format_='full', возвращается вся информация по валюте\n",
    "        \"\"\"\n",
    "        valute = self.data.get(code.upper())\n",
    "        if not valute:\n",
    "            return \"Валюта не найдена\"\n",
    "        if format_ == 'full':\n",
    "            return valute\n",
    "        elif format_ == 'value':\n",
    "            if self.diff:\n",
    "                return round(valute['Value'] - valute['Previous'], 6)\n",
    "            else:\n",
    "                return valute['Value']"
   ]
  },
  {
   "cell_type": "code",
   "execution_count": 11,
   "id": "a5cbb146",
   "metadata": {},
   "outputs": [
    {
     "name": "stdout",
     "output_type": "stream",
     "text": [
      "Разница по USD: 0.0897\n",
      "Текущий курс EUR: 90.1011\n"
     ]
    }
   ],
   "source": [
    "# Пример с diff=True\n",
    "r1 = Rate(diff=True)\n",
    "print(\"Разница по USD:\", r1.get_currency('USD'))\n",
    "\n",
    "# Пример с diff=False\n",
    "r2 = Rate(diff=False)\n",
    "print(\"Текущий курс EUR:\", r2.get_currency('EUR'))"
   ]
  },
  {
   "cell_type": "code",
   "execution_count": null,
   "id": "5770759e-6a69-465e-8a43-2f31cc519447",
   "metadata": {},
   "outputs": [],
   "source": []
  }
 ],
 "metadata": {
  "kernelspec": {
   "display_name": "Python [conda env:base] *",
   "language": "python",
   "name": "conda-base-py"
  },
  "language_info": {
   "codemirror_mode": {
    "name": "ipython",
    "version": 3
   },
   "file_extension": ".py",
   "mimetype": "text/x-python",
   "name": "python",
   "nbconvert_exporter": "python",
   "pygments_lexer": "ipython3",
   "version": "3.12.7"
  }
 },
 "nbformat": 4,
 "nbformat_minor": 5
}
