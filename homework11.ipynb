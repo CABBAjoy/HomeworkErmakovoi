{
 "cells": [
  {
   "cell_type": "markdown",
   "id": "a65142e1-4db8-4abc-9c86-67f92406920a",
   "metadata": {},
   "source": [
    "## Задание 1. Классификация фильмов по рейтингу\n",
    "\n",
    "Для каждого фильма на основе средней оценки рассчитать рейтинг:\n",
    "- ≤ 2.0 — низкий рейтинг;\n",
    "- ≤ 4.0 — средний рейтинг;\n",
    "- 4.5 и выше — высокий рейтинг.\n",
    "\n",
    "Результат сохранить в столбец `class`.\n"
   ]
  },
  {
   "cell_type": "code",
   "execution_count": 1,
   "id": "13573b53-28fd-40eb-b7dd-02d0c81b1cb6",
   "metadata": {},
   "outputs": [],
   "source": [
    "import pandas as pd"
   ]
  },
  {
   "cell_type": "code",
   "execution_count": 13,
   "id": "2d164bec-f2d2-457c-8d66-f3e6909f5420",
   "metadata": {},
   "outputs": [],
   "source": [
    "#Загрузка данных\n",
    "ratings = pd.read_csv('ratings.csv')\n",
    "movies = pd.read_csv('movies.csv')"
   ]
  },
  {
   "cell_type": "code",
   "execution_count": 19,
   "id": "2d9e6421-fff5-4df1-8a17-badd9faabbdb",
   "metadata": {},
   "outputs": [],
   "source": [
    "#Группировка: средний рейтинг по каждому фильму\n",
    "\n",
    "avg_rating = ratings.groupby('movieId')['rating'].mean().reset_index()\n",
    "avg_rating.columns = ['movieId', 'mean_rating']"
   ]
  },
  {
   "cell_type": "code",
   "execution_count": 23,
   "id": "86fca540-678e-4b65-8369-0aa4856c0e22",
   "metadata": {},
   "outputs": [
    {
     "data": {
      "text/html": [
       "<div>\n",
       "<style scoped>\n",
       "    .dataframe tbody tr th:only-of-type {\n",
       "        vertical-align: middle;\n",
       "    }\n",
       "\n",
       "    .dataframe tbody tr th {\n",
       "        vertical-align: top;\n",
       "    }\n",
       "\n",
       "    .dataframe thead th {\n",
       "        text-align: right;\n",
       "    }\n",
       "</style>\n",
       "<table border=\"1\" class=\"dataframe\">\n",
       "  <thead>\n",
       "    <tr style=\"text-align: right;\">\n",
       "      <th></th>\n",
       "      <th>title</th>\n",
       "      <th>mean_rating</th>\n",
       "      <th>class</th>\n",
       "    </tr>\n",
       "  </thead>\n",
       "  <tbody>\n",
       "    <tr>\n",
       "      <th>0</th>\n",
       "      <td>Toy Story (1995)</td>\n",
       "      <td>3.872470</td>\n",
       "      <td>средний</td>\n",
       "    </tr>\n",
       "    <tr>\n",
       "      <th>1</th>\n",
       "      <td>Jumanji (1995)</td>\n",
       "      <td>3.401869</td>\n",
       "      <td>средний</td>\n",
       "    </tr>\n",
       "    <tr>\n",
       "      <th>2</th>\n",
       "      <td>Grumpier Old Men (1995)</td>\n",
       "      <td>3.161017</td>\n",
       "      <td>средний</td>\n",
       "    </tr>\n",
       "    <tr>\n",
       "      <th>3</th>\n",
       "      <td>Waiting to Exhale (1995)</td>\n",
       "      <td>2.384615</td>\n",
       "      <td>средний</td>\n",
       "    </tr>\n",
       "    <tr>\n",
       "      <th>4</th>\n",
       "      <td>Father of the Bride Part II (1995)</td>\n",
       "      <td>3.267857</td>\n",
       "      <td>средний</td>\n",
       "    </tr>\n",
       "  </tbody>\n",
       "</table>\n",
       "</div>"
      ],
      "text/plain": [
       "                                title  mean_rating    class\n",
       "0                    Toy Story (1995)     3.872470  средний\n",
       "1                      Jumanji (1995)     3.401869  средний\n",
       "2             Grumpier Old Men (1995)     3.161017  средний\n",
       "3            Waiting to Exhale (1995)     2.384615  средний\n",
       "4  Father of the Bride Part II (1995)     3.267857  средний"
      ]
     },
     "execution_count": 23,
     "metadata": {},
     "output_type": "execute_result"
    }
   ],
   "source": [
    "\n",
    "#Функция классификации\n",
    "\n",
    "def classify(r):\n",
    "    if r <= 2.0:\n",
    "        return 'низкий'\n",
    "    elif r <= 4.0:\n",
    "        return 'средний'\n",
    "    elif r >= 4.5:\n",
    "        return 'высокий'\n",
    "    else:\n",
    "        return 'не определён'\n",
    "\n",
    "#Применяем классификацию\n",
    "avg_rating['class'] = avg_rating['mean_rating'].apply(classify)\n",
    "\n",
    "#Объединяем с названиями фильмов\n",
    "classified_movies = movies.merge(avg_rating, on='movieId')\n",
    "\n",
    "#Пример: выводим первые 5 строк\n",
    "classified_movies[['title', 'mean_rating', 'class']].head()"
   ]
  },
  {
   "cell_type": "markdown",
   "id": "18548c87-f966-479e-bd8e-30cb0b8e1d6e",
   "metadata": {},
   "source": [
    "## Задание 2. Гео-классификатор по ключевым словам\n",
    "\n",
    "Поиск в тексте названий городов из заданного справочника `geo_data`.  \n",
    "Если найдено — присваиваем регион, иначе — `undefined`.\n",
    "\n",
    "Данные читаем из `keywords.csv`, столбец запроса — `keyword`.\n"
   ]
  },
  {
   "cell_type": "code",
   "execution_count": 26,
   "id": "ce232b0a-d958-42d7-a3a5-43bddfc5c232",
   "metadata": {},
   "outputs": [],
   "source": [
    "#Пример geo-справочника\n",
    "geo_data = {\n",
    "    'Центр': ['москва', 'тула', 'ярославль'],\n",
    "    'Северо-Запад': ['петербург', 'псков', 'мурманск'],\n",
    "    'Дальний Восток': ['владивосток', 'сахалин', 'хабаровск']\n",
    "}\n",
    "\n",
    "#Загрузка keywords\n",
    "keywords = pd.read_csv('keywords.csv')"
   ]
  },
  {
   "cell_type": "code",
   "execution_count": 42,
   "id": "8f129014-9b3f-4132-9096-eb1cbde51304",
   "metadata": {},
   "outputs": [
    {
     "name": "stdout",
     "output_type": "stream",
     "text": [
      "                        keyword          region\n",
      "127                авито москва           Центр\n",
      "370    авито ру санкт петербург    Северо-Запад\n",
      "564   погода в санкт петербурге    Северо-Запад\n",
      "849             авито ярославль           Центр\n",
      "1063        фарпост владивосток  Дальний Восток\n"
     ]
    }
   ],
   "source": [
    "#Функция классификации строки\n",
    "def get_region(keyword):\n",
    "    keyword = str(keyword).lower()\n",
    "    for region, cities in geo_data.items():\n",
    "        if any(city in keyword for city in cities):\n",
    "            return region\n",
    "    return 'undefined'\n",
    "\n",
    "#Применяем функцию\n",
    "keywords['region'] = keywords['keyword'].apply(get_region)\n",
    "\n",
    "#Пример: выводим первые строки с регионом\n",
    "#keywords[['keyword', 'region']].head()\n",
    "\n",
    "#keywords['region'].value_counts()\n",
    "\n",
    "# Только найденные города с регионами\n",
    "filtered = keywords[keywords['region'] != 'undefined'][['keyword', 'region']]\n",
    "\n",
    "# Покажем первые строки\n",
    "print(filtered.head())\n"
   ]
  },
  {
   "cell_type": "code",
   "execution_count": null,
   "id": "dc19cc6b-e8f9-41f1-8156-b430402c20e7",
   "metadata": {},
   "outputs": [],
   "source": []
  }
 ],
 "metadata": {
  "kernelspec": {
   "display_name": "Python [conda env:base] *",
   "language": "python",
   "name": "conda-base-py"
  },
  "language_info": {
   "codemirror_mode": {
    "name": "ipython",
    "version": 3
   },
   "file_extension": ".py",
   "mimetype": "text/x-python",
   "name": "python",
   "nbconvert_exporter": "python",
   "pygments_lexer": "ipython3",
   "version": "3.12.7"
  }
 },
 "nbformat": 4,
 "nbformat_minor": 5
}
