{
 "cells": [
  {
   "cell_type": "markdown",
   "id": "68da3ed7-fdc7-48a1-a8f8-e40081009b45",
   "metadata": {},
   "source": [
    "## 🔹 Задание 1: Найти владельца документа\n",
    "\n",
    "Функция `find_owner_by_number(doc_number)` возвращает имя владельца по номеру документа. Если номер не найден — выводит сообщение об ошибке."
   ]
  },
  {
   "cell_type": "code",
   "execution_count": 20,
   "id": "045814c3-7187-4036-a543-1a4fba581b8e",
   "metadata": {},
   "outputs": [],
   "source": [
    "# Исходные данные\n",
    "\n",
    "documents = [\n",
    "    {'type': 'passport', 'number': '2207 876234', 'name': 'Василий Гупкин'},\n",
    "    {'type': 'invoice', 'number': '11-2', 'name': 'Геннадий Покемонов'},\n",
    "    {'type': 'insurance', 'number': '10006', 'name': 'Аристарх Павлов'}\n",
    "]\n",
    "\n",
    "directories = {\n",
    "    '1': ['2207 876234', '11-2'],\n",
    "    '2': ['10006'],\n",
    "    '3': []\n",
    "}"
   ]
  },
  {
   "cell_type": "code",
   "execution_count": 30,
   "id": "6e091fcf-9b01-416b-9b8b-1912f59db276",
   "metadata": {},
   "outputs": [],
   "source": [
    "def find_owner_by_number (doc_number):\n",
    "    \"\"\"\n",
    "    Принимает номер документа и возвращает имя владельца,\n",
    "    если документ найден. Иначе сообщает об отсутствии.\n",
    "    \"\"\"\n",
    "    \n",
    "    # перебираем каждый документ в списке documents\n",
    "    for doc in documents:  \n",
    "\n",
    "        # если номер документа совпадает с введенным - возвращаем имя владельца, если номер не найден, выводим сообщение об этом\n",
    "        if doc['number'] == doc_number:\n",
    "            return f\"Владелец документа: {doc['name']}\"\n",
    "    return 'Владелец документа не найден'"
   ]
  },
  {
   "cell_type": "code",
   "execution_count": 36,
   "id": "3bc9aeb6-2fc6-495d-9244-c2a6807d8020",
   "metadata": {},
   "outputs": [
    {
     "name": "stdin",
     "output_type": "stream",
     "text": [
      "Введите команду (p — поиск владельца, q — выход):  p\n",
      "Введите номер документа:  10006\n"
     ]
    },
    {
     "name": "stdout",
     "output_type": "stream",
     "text": [
      "Владелец документа: Аристарх Павлов\n"
     ]
    },
    {
     "name": "stdin",
     "output_type": "stream",
     "text": [
      "Введите команду (p — поиск владельца, q — выход):  q\n"
     ]
    }
   ],
   "source": [
    "# Обработка команды 'p' — поиск владельца\n",
    "\n",
    "while True:\n",
    "    command = input('Введите команду (p — поиск владельца, q — выход): ')\n",
    "    if command == 'q':\n",
    "        break\n",
    "    elif command == 'p':\n",
    "        doc_number = input('Введите номер документа: ')\n",
    "        print (find_owner_by_number(doc_number))\n",
    "    else:\n",
    "        print ('Неизвестная комманда.')\n",
    "                    "
   ]
  },
  {
   "cell_type": "markdown",
   "id": "c92b5571-0024-475d-a0bf-6902935520b6",
   "metadata": {},
   "source": [
    "## 🔹 Задание 2: Найти полку хранения документа\n",
    "\n",
    "Функция `find_shelf_by_number(doc_number)` возвращает номер полки, на которой хранится документ. Если документ не найден — выводит сообщение."
   ]
  },
  {
   "cell_type": "code",
   "execution_count": 48,
   "id": "0e5180e8-e943-4b45-9d5b-17e35f7d8db8",
   "metadata": {},
   "outputs": [],
   "source": [
    "directories = {\n",
    "    '1': ['2207 876234', '11-2'],\n",
    "    '2': ['10006'],\n",
    "    '3': []\n",
    "}"
   ]
  },
  {
   "cell_type": "code",
   "execution_count": 54,
   "id": "c0554d2a-e302-4b14-a3bb-c8c8da0f551d",
   "metadata": {},
   "outputs": [],
   "source": [
    "def find_shelf_by_number(doc_number):\n",
    "    \"\"\"\n",
    "    Принимает номер документа и возвращает номер полки,\n",
    "    на которой он хранится. Если документ не найден —\n",
    "    сообщает об этом.\n",
    "    \"\"\"\n",
    "    for shelf, docs in directories.items():\n",
    "        if doc_number in docs:\n",
    "            return f\"Документ хранится на полке: {shelf}\"\n",
    "    return \"Документ не найден\""
   ]
  },
  {
   "cell_type": "code",
   "execution_count": null,
   "id": "25da3759-4424-41c7-8913-90c2ddf33604",
   "metadata": {},
   "outputs": [
    {
     "name": "stdin",
     "output_type": "stream",
     "text": [
      "Введите команду (s — поиск полки, q — выход):  s\n",
      "Введите номер документа:  10006\n"
     ]
    },
    {
     "name": "stdout",
     "output_type": "stream",
     "text": [
      "Документ хранится на полке: 2\n"
     ]
    }
   ],
   "source": [
    "# Обработка команды 's' — поиск полки\n",
    "\n",
    "while True:\n",
    "    command = input(\"Введите команду (s — поиск полки, q — выход): \")\n",
    "    if command == 'q':\n",
    "        break\n",
    "    elif command == 's':\n",
    "        doc_number = input(\"Введите номер документа: \")\n",
    "        print(find_shelf_by_number(doc_number))\n",
    "    else:\n",
    "        print(\"Неизвестная команда.\")\n",
    "    \n",
    "    "
   ]
  },
  {
   "cell_type": "code",
   "execution_count": null,
   "id": "6269ad63-abbf-456e-9bce-41a02726fccf",
   "metadata": {},
   "outputs": [],
   "source": []
  }
 ],
 "metadata": {
  "kernelspec": {
   "display_name": "Python [conda env:base] *",
   "language": "python",
   "name": "conda-base-py"
  },
  "language_info": {
   "codemirror_mode": {
    "name": "ipython",
    "version": 3
   },
   "file_extension": ".py",
   "mimetype": "text/x-python",
   "name": "python",
   "nbconvert_exporter": "python",
   "pygments_lexer": "ipython3",
   "version": "3.12.7"
  }
 },
 "nbformat": 4,
 "nbformat_minor": 5
}
